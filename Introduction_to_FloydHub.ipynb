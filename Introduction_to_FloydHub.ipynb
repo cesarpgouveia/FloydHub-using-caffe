{
 "cells": [
  {
   "cell_type": "markdown",
   "metadata": {},
   "source": [
    "# FloydHub introduction for Caffe"
   ]
  },
  {
   "cell_type": "markdown",
   "metadata": {},
   "source": [
    "This notebook contains a guide to help you start experimenting FloydHub using caffe and GTSRB dataset as example. The code and data in this project are available on https://www.floydhub.com/cesarpgouveia/projects/gtsrb."
   ]
  },
  {
   "cell_type": "markdown",
   "metadata": {},
   "source": [
    "## 1. Create a FloydHub account\n",
    "\n",
    " - [Sign up](https://www.floydhub.com/signup) on FloydHub\n",
    " \n",
    " - Install the floydhub CLI on your local machine:"
   ]
  },
  {
   "cell_type": "code",
   "execution_count": null,
   "metadata": {},
   "outputs": [],
   "source": [
    "$ pip install -U floyd-cli\n",
    "\n",
    "$ floyd login -u cesarpgouveia"
   ]
  },
  {
   "cell_type": "markdown",
   "metadata": {},
   "source": [
    "FloydHub provides great documentation: https://docs.floydhub.com/getstarted/quick_start/"
   ]
  },
  {
   "cell_type": "markdown",
   "metadata": {},
   "source": [
    "## 2. Create a new  FloydHub project"
   ]
  },
  {
   "cell_type": "markdown",
   "metadata": {},
   "source": [
    " - [Create](www.floydhub.com/projects/create) a new project on the dashboard called **gtsrb**\n",
    " - Run floyd init in the project directory of your local machine:"
   ]
  },
  {
   "cell_type": "code",
   "execution_count": null,
   "metadata": {},
   "outputs": [],
   "source": [
    "$ floyd init gtsrb"
   ]
  },
  {
   "cell_type": "markdown",
   "metadata": {},
   "source": [
    "## 3. Create a new FloydHub dataset"
   ]
  },
  {
   "cell_type": "markdown",
   "metadata": {},
   "source": [
    " - Navigate to the directory containing your dataset, for small datasets (<100Mb) you can save your dataset in your floydhub project directory and skip 3.\n",
    " - [Create](www.floydhub.com/datasets/create) a new dataset on the dashboard called **gtsrb-aug-dataset**\n",
    " - Initialize dataset:"
   ]
  },
  {
   "cell_type": "code",
   "execution_count": null,
   "metadata": {},
   "outputs": [],
   "source": [
    " $ floyd data init gtsrb-aug-dataset"
   ]
  },
  {
   "cell_type": "markdown",
   "metadata": {},
   "source": [
    " - Upload your dataset:"
   ]
  },
  {
   "cell_type": "code",
   "execution_count": null,
   "metadata": {},
   "outputs": [],
   "source": [
    "$ floyd data upload"
   ]
  },
  {
   "cell_type": "markdown",
   "metadata": {},
   "source": [
    "## 4. Run FloydHub"
   ]
  },
  {
   "cell_type": "markdown",
   "metadata": {},
   "source": [
    " - Navigate to your project directory again and run the following command:"
   ]
  },
  {
   "cell_type": "code",
   "execution_count": null,
   "metadata": {},
   "outputs": [],
   "source": [
    "$ floyd run --gpu --env caffe:py2 --data cesarpgouveia/datasets/gtsrb-aug-dataset/1:gtsrb --mode jupyter"
   ]
  },
  {
   "cell_type": "markdown",
   "metadata": {},
   "source": [
    "This command has done the following steps:\n",
    "\n",
    " - synced our local code to cloud\n",
    " - spun up GPU (Tesla K80)\n",
    " - setup environment with Caffe (Python2) installed\n",
    " - append our dataset to our project\n",
    " - run on jupyter mode in order to use a jupyter notebook\n",
    " - executed our command in that environment"
   ]
  },
  {
   "cell_type": "markdown",
   "metadata": {},
   "source": [
    "Note that **:gtsrb** will be the directory where your dataset will be mounted, so in your prototxt you should reference the lmdb files like this:"
   ]
  },
  {
   "cell_type": "code",
   "execution_count": null,
   "metadata": {},
   "outputs": [],
   "source": [
    "data_param {\n",
    "    source: \"/gtsrb/train_lmdb\"\n",
    "    batch_size: 100\n",
    "    backend: LMDB\n",
    "}"
   ]
  },
  {
   "cell_type": "markdown",
   "metadata": {},
   "source": [
    "and the same for the val_lmdb.\n",
    " \n",
    "You can check the list of available environments here: https://docs.floydhub.com/guides/environments/"
   ]
  },
  {
   "cell_type": "markdown",
   "metadata": {},
   "source": [
    " - It will automatically open a new browser window, where you can see all your project files\n",
    " - Open GTSRB_gpu_train.ipynb and run the first and only cell with CTRL + ENTER\n",
    " - Finally, once it's running, we can easily check the status of our training in the terminal using the status command and the ID of our run or we can view it in the web dashboard under slash experiments\n",
    " - To check the logs we can navigate to our web dashboard -> overview -> scroll down and open Logs tab"
   ]
  },
  {
   "cell_type": "markdown",
   "metadata": {},
   "source": [
    "Always remember to shutdown all your jobs after completing the training, time is money!\n",
    "\n",
    "![title](images/JobStatus.png)"
   ]
  },
  {
   "cell_type": "markdown",
   "metadata": {},
   "source": [
    "## 5. Literature"
   ]
  },
  {
   "cell_type": "markdown",
   "metadata": {},
   "source": [
    " Check this links for more information:\n",
    " - https://www.youtube.com/watch?v=Bgwujw-yom8\n",
    " - https://www.youtube.com/watch?v=byLQ9kgjTdQ\n",
    " - https://www.youtube.com/watch?v=relTVr694Ko&t=398s"
   ]
  }
 ],
 "metadata": {
  "kernelspec": {
   "display_name": "Python 2",
   "language": "python",
   "name": "python2"
  },
  "language_info": {
   "codemirror_mode": {
    "name": "ipython",
    "version": 2
   },
   "file_extension": ".py",
   "mimetype": "text/x-python",
   "name": "python",
   "nbconvert_exporter": "python",
   "pygments_lexer": "ipython2",
   "version": "2.7.14"
  }
 },
 "nbformat": 4,
 "nbformat_minor": 2
}
